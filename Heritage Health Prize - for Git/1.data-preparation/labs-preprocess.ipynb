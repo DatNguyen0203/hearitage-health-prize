{
 "cells": [
  {
   "cell_type": "code",
   "execution_count": 1,
   "metadata": {},
   "outputs": [],
   "source": [
    "import pandas as pd\n",
    "import numpy as np"
   ]
  },
  {
   "cell_type": "code",
   "execution_count": 2,
   "metadata": {},
   "outputs": [],
   "source": [
    "df_lab = pd.read_csv('../data/LabCount.csv')"
   ]
  },
  {
   "cell_type": "code",
   "execution_count": 5,
   "metadata": {},
   "outputs": [
    {
     "data": {
      "text/html": [
       "<div>\n",
       "<style scoped>\n",
       "    .dataframe tbody tr th:only-of-type {\n",
       "        vertical-align: middle;\n",
       "    }\n",
       "\n",
       "    .dataframe tbody tr th {\n",
       "        vertical-align: top;\n",
       "    }\n",
       "\n",
       "    .dataframe thead th {\n",
       "        text-align: right;\n",
       "    }\n",
       "</style>\n",
       "<table border=\"1\" class=\"dataframe\">\n",
       "  <thead>\n",
       "    <tr style=\"text-align: right;\">\n",
       "      <th></th>\n",
       "      <th>null_count</th>\n",
       "      <th>null_percent</th>\n",
       "    </tr>\n",
       "  </thead>\n",
       "  <tbody>\n",
       "    <tr>\n",
       "      <th>MemberID</th>\n",
       "      <td>0</td>\n",
       "      <td>0.0</td>\n",
       "    </tr>\n",
       "    <tr>\n",
       "      <th>Year</th>\n",
       "      <td>0</td>\n",
       "      <td>0.0</td>\n",
       "    </tr>\n",
       "    <tr>\n",
       "      <th>DSFS</th>\n",
       "      <td>0</td>\n",
       "      <td>0.0</td>\n",
       "    </tr>\n",
       "    <tr>\n",
       "      <th>LabCount</th>\n",
       "      <td>0</td>\n",
       "      <td>0.0</td>\n",
       "    </tr>\n",
       "  </tbody>\n",
       "</table>\n",
       "</div>"
      ],
      "text/plain": [
       "          null_count  null_percent\n",
       "MemberID           0           0.0\n",
       "Year               0           0.0\n",
       "DSFS               0           0.0\n",
       "LabCount           0           0.0"
      ]
     },
     "metadata": {},
     "output_type": "display_data"
    }
   ],
   "source": [
    "def count_nulls(df):\n",
    "    null_counter = df.isnull().sum(axis=0)\n",
    "    #null_counter = null_counter[null_counter > 0]\n",
    "    null_percent = df.isnull().sum(axis=0) / df.shape[0] * 100\n",
    "    #null_percent = null_percent[null_percent > 0]\n",
    "    null_df = pd.concat([null_counter,null_percent],axis=1)\n",
    "    null_df.columns = ['null_count','null_percent']\n",
    "    display(null_df)\n",
    "    \n",
    "count_nulls(df_lab)"
   ]
  },
  {
   "cell_type": "code",
   "execution_count": 7,
   "metadata": {},
   "outputs": [],
   "source": [
    "# LabCount\n",
    "   # Convert from text to numerical type\n",
    "def updateLabCount():\n",
    "    def edit_count(str):\n",
    "        str = str.replace(\"+\",\"\")\n",
    "        return int(str)\n",
    "    df_lab['LabCount'] = df_lab['LabCount'].apply(edit_count).astype(int)\n",
    "    return\n",
    "\n",
    "updateLabCount()"
   ]
  },
  {
   "cell_type": "code",
   "execution_count": 10,
   "metadata": {},
   "outputs": [],
   "source": [
    "# Aggregation on (Year, MemberID)\n",
    "   #Helper functions\n",
    "def std(x):\n",
    "    if len(x) == 1:\n",
    "        return 0\n",
    "    else:\n",
    "        return np.std(x)\n",
    "\n",
    "df_lab_summary = df_lab.groupby(['Year', 'MemberID']).agg({\n",
    "    'MemberID': 'count',\n",
    "    'LabCount': ['sum', 'max', 'min', 'mean', std]\n",
    "})"
   ]
  },
  {
   "cell_type": "code",
   "execution_count": 16,
   "metadata": {},
   "outputs": [],
   "source": [
    "# Change column names\n",
    "df_lab_summary.columns = [\n",
    "    'no_lab_instances',\n",
    "    'LabCount_sum',\n",
    "    'LabCount_max',\n",
    "    'LabCount_min',\n",
    "    'LabCount_mean',\n",
    "    'LabCount_std'\n",
    "]\n",
    "\n",
    "# Reset index\n",
    "df_lab_summary = df_lab_summary.reset_index()"
   ]
  },
  {
   "cell_type": "code",
   "execution_count": 18,
   "metadata": {},
   "outputs": [],
   "source": [
    "# Export to csv for further processing\n",
    "df_lab_summary.to_csv(\"processed-data/lab_summary.csv\", index=False)"
   ]
  }
 ],
 "metadata": {
  "kernelspec": {
   "display_name": "Python 3",
   "language": "python",
   "name": "python3"
  },
  "language_info": {
   "codemirror_mode": {
    "name": "ipython",
    "version": 3
   },
   "file_extension": ".py",
   "mimetype": "text/x-python",
   "name": "python",
   "nbconvert_exporter": "python",
   "pygments_lexer": "ipython3",
   "version": "3.8.3"
  }
 },
 "nbformat": 4,
 "nbformat_minor": 2
}
