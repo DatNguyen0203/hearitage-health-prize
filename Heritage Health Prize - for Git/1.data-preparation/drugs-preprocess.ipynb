{
 "cells": [
  {
   "cell_type": "code",
   "execution_count": 17,
   "metadata": {},
   "outputs": [],
   "source": [
    "import pandas as pd\n",
    "import numpy as np"
   ]
  },
  {
   "cell_type": "code",
   "execution_count": 2,
   "metadata": {},
   "outputs": [],
   "source": [
    "df_drug = pd.read_csv('../data/DrugCount.csv')"
   ]
  },
  {
   "cell_type": "code",
   "execution_count": 3,
   "metadata": {},
   "outputs": [
    {
     "data": {
      "text/html": [
       "<div>\n",
       "<style scoped>\n",
       "    .dataframe tbody tr th:only-of-type {\n",
       "        vertical-align: middle;\n",
       "    }\n",
       "\n",
       "    .dataframe tbody tr th {\n",
       "        vertical-align: top;\n",
       "    }\n",
       "\n",
       "    .dataframe thead th {\n",
       "        text-align: right;\n",
       "    }\n",
       "</style>\n",
       "<table border=\"1\" class=\"dataframe\">\n",
       "  <thead>\n",
       "    <tr style=\"text-align: right;\">\n",
       "      <th></th>\n",
       "      <th>MemberID</th>\n",
       "      <th>Year</th>\n",
       "      <th>DSFS</th>\n",
       "      <th>DrugCount</th>\n",
       "    </tr>\n",
       "  </thead>\n",
       "  <tbody>\n",
       "    <tr>\n",
       "      <th>0</th>\n",
       "      <td>48925661</td>\n",
       "      <td>Y2</td>\n",
       "      <td>9-10 months</td>\n",
       "      <td>7+</td>\n",
       "    </tr>\n",
       "    <tr>\n",
       "      <th>1</th>\n",
       "      <td>90764620</td>\n",
       "      <td>Y3</td>\n",
       "      <td>8- 9 months</td>\n",
       "      <td>3</td>\n",
       "    </tr>\n",
       "    <tr>\n",
       "      <th>2</th>\n",
       "      <td>61221204</td>\n",
       "      <td>Y1</td>\n",
       "      <td>2- 3 months</td>\n",
       "      <td>1</td>\n",
       "    </tr>\n",
       "    <tr>\n",
       "      <th>3</th>\n",
       "      <td>63628544</td>\n",
       "      <td>Y3</td>\n",
       "      <td>1- 2 months</td>\n",
       "      <td>1</td>\n",
       "    </tr>\n",
       "    <tr>\n",
       "      <th>4</th>\n",
       "      <td>46949606</td>\n",
       "      <td>Y2</td>\n",
       "      <td>10-11 months</td>\n",
       "      <td>3</td>\n",
       "    </tr>\n",
       "  </tbody>\n",
       "</table>\n",
       "</div>"
      ],
      "text/plain": [
       "   MemberID Year          DSFS DrugCount\n",
       "0  48925661   Y2   9-10 months        7+\n",
       "1  90764620   Y3   8- 9 months         3\n",
       "2  61221204   Y1   2- 3 months         1\n",
       "3  63628544   Y3   1- 2 months         1\n",
       "4  46949606   Y2  10-11 months         3"
      ]
     },
     "execution_count": 3,
     "metadata": {},
     "output_type": "execute_result"
    }
   ],
   "source": [
    "df_drug.head()"
   ]
  },
  {
   "cell_type": "code",
   "execution_count": 5,
   "metadata": {},
   "outputs": [
    {
     "data": {
      "text/html": [
       "<div>\n",
       "<style scoped>\n",
       "    .dataframe tbody tr th:only-of-type {\n",
       "        vertical-align: middle;\n",
       "    }\n",
       "\n",
       "    .dataframe tbody tr th {\n",
       "        vertical-align: top;\n",
       "    }\n",
       "\n",
       "    .dataframe thead th {\n",
       "        text-align: right;\n",
       "    }\n",
       "</style>\n",
       "<table border=\"1\" class=\"dataframe\">\n",
       "  <thead>\n",
       "    <tr style=\"text-align: right;\">\n",
       "      <th></th>\n",
       "      <th>null_count</th>\n",
       "      <th>null_percent</th>\n",
       "    </tr>\n",
       "  </thead>\n",
       "  <tbody>\n",
       "    <tr>\n",
       "      <th>MemberID</th>\n",
       "      <td>0</td>\n",
       "      <td>0.0</td>\n",
       "    </tr>\n",
       "    <tr>\n",
       "      <th>Year</th>\n",
       "      <td>0</td>\n",
       "      <td>0.0</td>\n",
       "    </tr>\n",
       "    <tr>\n",
       "      <th>DSFS</th>\n",
       "      <td>0</td>\n",
       "      <td>0.0</td>\n",
       "    </tr>\n",
       "    <tr>\n",
       "      <th>DrugCount</th>\n",
       "      <td>0</td>\n",
       "      <td>0.0</td>\n",
       "    </tr>\n",
       "  </tbody>\n",
       "</table>\n",
       "</div>"
      ],
      "text/plain": [
       "           null_count  null_percent\n",
       "MemberID            0           0.0\n",
       "Year                0           0.0\n",
       "DSFS                0           0.0\n",
       "DrugCount           0           0.0"
      ]
     },
     "metadata": {},
     "output_type": "display_data"
    }
   ],
   "source": [
    "def count_nulls(df):\n",
    "    null_counter = df.isnull().sum(axis=0)\n",
    "    #null_counter = null_counter[null_counter > 0]\n",
    "    null_percent = df.isnull().sum(axis=0) / df.shape[0] * 100\n",
    "    #null_percent = null_percent[null_percent > 0]\n",
    "    null_df = pd.concat([null_counter,null_percent],axis=1)\n",
    "    null_df.columns = ['null_count','null_percent']\n",
    "    display(null_df)\n",
    "    \n",
    "count_nulls(df_drug)"
   ]
  },
  {
   "cell_type": "code",
   "execution_count": 10,
   "metadata": {},
   "outputs": [],
   "source": [
    "# DSFS \n",
    "   # Convert from categorical to numerical type\n",
    "def updateDSFS():\n",
    "    df_drug.loc[df_drug['DSFS']=='0- 1 month','DSFS'] = 15\n",
    "    df_drug.loc[df_drug['DSFS']=='1- 2 months','DSFS'] = 45\n",
    "    df_drug.loc[df_drug['DSFS']=='2- 3 months','DSFS'] = 75\n",
    "    df_drug.loc[df_drug['DSFS']=='3- 4 months','DSFS'] = 105\n",
    "    df_drug.loc[df_drug['DSFS']=='4- 5 months','DSFS'] = 135\n",
    "    df_drug.loc[df_drug['DSFS']=='5- 6 months','DSFS'] = 165\n",
    "    df_drug.loc[df_drug['DSFS']=='6- 7 months','DSFS'] = 195\n",
    "    df_drug.loc[df_drug['DSFS']=='7- 8 months','DSFS'] = 225\n",
    "    df_drug.loc[df_drug['DSFS']=='8- 9 months','DSFS'] = 255\n",
    "    df_drug.loc[df_drug['DSFS']=='9-10 months','DSFS'] = 285\n",
    "    df_drug.loc[df_drug['DSFS']=='10-11 months','DSFS'] = 315\n",
    "    df_drug.loc[df_drug['DSFS']=='11-12 months','DSFS'] = 345\n",
    "    df_drug['DSFS'].fillna(0, inplace=True)\n",
    "    df_drug['DSFS'] = df_drug['DSFS'].astype(int)\n",
    "    return\n",
    "\n",
    "updateDSFS()"
   ]
  },
  {
   "cell_type": "code",
   "execution_count": 14,
   "metadata": {},
   "outputs": [],
   "source": [
    "# DrugCount\n",
    "   # Convert from text to numerical type\n",
    "def updateDrugCount():\n",
    "    df_drug.loc[df_drug['DrugCount']=='1','DrugCount'] = 1\n",
    "    df_drug.loc[df_drug['DrugCount']=='2','DrugCount'] = 2\n",
    "    df_drug.loc[df_drug['DrugCount']=='3','DrugCount'] = 3\n",
    "    df_drug.loc[df_drug['DrugCount']=='4','DrugCount'] = 4\n",
    "    df_drug.loc[df_drug['DrugCount']=='5','DrugCount'] = 5\n",
    "    df_drug.loc[df_drug['DrugCount']=='6','DrugCount'] = 6\n",
    "    df_drug.loc[df_drug['DrugCount']=='7+','DrugCount'] = 7\n",
    "    df_drug['DrugCount'].fillna(0, inplace=True)\n",
    "    df_drug['DrugCount'] = df_drug['DrugCount'].astype(int)\n",
    "    return\n",
    "\n",
    "updateDrugCount()"
   ]
  },
  {
   "cell_type": "code",
   "execution_count": 18,
   "metadata": {},
   "outputs": [],
   "source": [
    "# Aggregation on (Year, MemberID)\n",
    "   #Helper functions\n",
    "def std(x):\n",
    "    if len(x) == 1:\n",
    "        return 0\n",
    "    else:\n",
    "        return np.std(x)\n",
    "\n",
    "df_drug_summary = df_drug.groupby(['Year', 'MemberID']).agg({\n",
    "    'MemberID': 'count',\n",
    "    'DrugCount': ['sum', 'max', 'min', 'mean', std]\n",
    "})"
   ]
  },
  {
   "cell_type": "code",
   "execution_count": 20,
   "metadata": {},
   "outputs": [],
   "source": [
    "# Change column names\n",
    "df_drug_summary.columns = [\n",
    "    'no_drug_instances',\n",
    "    'DrugCount_sum',\n",
    "    'DrugCount_max',\n",
    "    'DrugCount_min',\n",
    "    'DrugCount_mean',\n",
    "    'DrugCount_std'\n",
    "]\n",
    "\n",
    "# Reset index\n",
    "df_drug_summary = df_drug_summary.reset_index()"
   ]
  },
  {
   "cell_type": "code",
   "execution_count": 22,
   "metadata": {},
   "outputs": [],
   "source": [
    "# Export to csv for further processing\n",
    "df_drug_summary.to_csv(\"processed-data/drug_summary.csv\", index=False)"
   ]
  }
 ],
 "metadata": {
  "kernelspec": {
   "display_name": "Python 3",
   "language": "python",
   "name": "python3"
  },
  "language_info": {
   "codemirror_mode": {
    "name": "ipython",
    "version": 3
   },
   "file_extension": ".py",
   "mimetype": "text/x-python",
   "name": "python",
   "nbconvert_exporter": "python",
   "pygments_lexer": "ipython3",
   "version": "3.8.3"
  }
 },
 "nbformat": 4,
 "nbformat_minor": 2
}
