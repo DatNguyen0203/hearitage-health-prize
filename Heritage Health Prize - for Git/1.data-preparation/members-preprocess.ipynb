{
 "cells": [
  {
   "cell_type": "code",
   "execution_count": 12,
   "metadata": {},
   "outputs": [],
   "source": [
    "import pandas as pd\n",
    "import numpy as np"
   ]
  },
  {
   "cell_type": "code",
   "execution_count": 13,
   "metadata": {},
   "outputs": [],
   "source": [
    "df_members = pd.read_csv('../data/Members.csv')"
   ]
  },
  {
   "cell_type": "code",
   "execution_count": 14,
   "metadata": {},
   "outputs": [
    {
     "data": {
      "text/plain": [
       "MemberID            int64\n",
       "AgeAtFirstClaim    object\n",
       "Sex                object\n",
       "dtype: object"
      ]
     },
     "execution_count": 14,
     "metadata": {},
     "output_type": "execute_result"
    }
   ],
   "source": [
    "df_members.dtypes"
   ]
  },
  {
   "cell_type": "code",
   "execution_count": 15,
   "metadata": {},
   "outputs": [
    {
     "data": {
      "text/html": [
       "<div>\n",
       "<style scoped>\n",
       "    .dataframe tbody tr th:only-of-type {\n",
       "        vertical-align: middle;\n",
       "    }\n",
       "\n",
       "    .dataframe tbody tr th {\n",
       "        vertical-align: top;\n",
       "    }\n",
       "\n",
       "    .dataframe thead th {\n",
       "        text-align: right;\n",
       "    }\n",
       "</style>\n",
       "<table border=\"1\" class=\"dataframe\">\n",
       "  <thead>\n",
       "    <tr style=\"text-align: right;\">\n",
       "      <th></th>\n",
       "      <th>MemberID</th>\n",
       "      <th>AgeAtFirstClaim</th>\n",
       "      <th>Sex</th>\n",
       "    </tr>\n",
       "  </thead>\n",
       "  <tbody>\n",
       "    <tr>\n",
       "      <th>0</th>\n",
       "      <td>14723353</td>\n",
       "      <td>70-79</td>\n",
       "      <td>M</td>\n",
       "    </tr>\n",
       "    <tr>\n",
       "      <th>1</th>\n",
       "      <td>75706636</td>\n",
       "      <td>70-79</td>\n",
       "      <td>M</td>\n",
       "    </tr>\n",
       "    <tr>\n",
       "      <th>2</th>\n",
       "      <td>17320609</td>\n",
       "      <td>70-79</td>\n",
       "      <td>M</td>\n",
       "    </tr>\n",
       "    <tr>\n",
       "      <th>3</th>\n",
       "      <td>69690888</td>\n",
       "      <td>40-49</td>\n",
       "      <td>M</td>\n",
       "    </tr>\n",
       "    <tr>\n",
       "      <th>4</th>\n",
       "      <td>33004608</td>\n",
       "      <td>0-9</td>\n",
       "      <td>M</td>\n",
       "    </tr>\n",
       "  </tbody>\n",
       "</table>\n",
       "</div>"
      ],
      "text/plain": [
       "   MemberID AgeAtFirstClaim Sex\n",
       "0  14723353           70-79   M\n",
       "1  75706636           70-79   M\n",
       "2  17320609           70-79   M\n",
       "3  69690888           40-49   M\n",
       "4  33004608             0-9   M"
      ]
     },
     "execution_count": 15,
     "metadata": {},
     "output_type": "execute_result"
    }
   ],
   "source": [
    "df_members.head()"
   ]
  },
  {
   "cell_type": "code",
   "execution_count": 16,
   "metadata": {},
   "outputs": [
    {
     "data": {
      "text/html": [
       "<div>\n",
       "<style scoped>\n",
       "    .dataframe tbody tr th:only-of-type {\n",
       "        vertical-align: middle;\n",
       "    }\n",
       "\n",
       "    .dataframe tbody tr th {\n",
       "        vertical-align: top;\n",
       "    }\n",
       "\n",
       "    .dataframe thead th {\n",
       "        text-align: right;\n",
       "    }\n",
       "</style>\n",
       "<table border=\"1\" class=\"dataframe\">\n",
       "  <thead>\n",
       "    <tr style=\"text-align: right;\">\n",
       "      <th></th>\n",
       "      <th>null_count</th>\n",
       "      <th>null_percent</th>\n",
       "    </tr>\n",
       "  </thead>\n",
       "  <tbody>\n",
       "    <tr>\n",
       "      <th>MemberID</th>\n",
       "      <td>0</td>\n",
       "      <td>0.000000</td>\n",
       "    </tr>\n",
       "    <tr>\n",
       "      <th>AgeAtFirstClaim</th>\n",
       "      <td>5753</td>\n",
       "      <td>5.091150</td>\n",
       "    </tr>\n",
       "    <tr>\n",
       "      <th>Sex</th>\n",
       "      <td>17552</td>\n",
       "      <td>15.532743</td>\n",
       "    </tr>\n",
       "  </tbody>\n",
       "</table>\n",
       "</div>"
      ],
      "text/plain": [
       "                 null_count  null_percent\n",
       "MemberID                  0      0.000000\n",
       "AgeAtFirstClaim        5753      5.091150\n",
       "Sex                   17552     15.532743"
      ]
     },
     "metadata": {},
     "output_type": "display_data"
    }
   ],
   "source": [
    "def count_nulls(df):\n",
    "    null_counter = df.isnull().sum(axis=0)\n",
    "    #null_counter = null_counter[null_counter > 0]\n",
    "    null_percent = df.isnull().sum(axis=0) / df.shape[0] * 100\n",
    "    #null_percent = null_percent[null_percent > 0]\n",
    "    null_df = pd.concat([null_counter,null_percent],axis=1)\n",
    "    null_df.columns = ['null_count','null_percent']\n",
    "    display(null_df)\n",
    "    \n",
    "count_nulls(df_members)"
   ]
  },
  {
   "cell_type": "code",
   "execution_count": 17,
   "metadata": {},
   "outputs": [],
   "source": [
    "# AgeAtFirstClaim\n",
    "   # Convert from text to binary\n",
    "\n",
    "def updateAge():\n",
    "    df_members['age_0-9'] = np.where(df_members['AgeAtFirstClaim']=='0-9', 1, 0)\n",
    "    df_members['age_10-19'] = np.where(df_members['AgeAtFirstClaim']=='10-19', 1, 0)\n",
    "    df_members['age_20-29'] = np.where(df_members['AgeAtFirstClaim']=='20-29', 1, 0)\n",
    "    df_members['age_30-39'] = np.where(df_members['AgeAtFirstClaim']=='30-39', 1, 0)\n",
    "    df_members['age_40-49'] = np.where(df_members['AgeAtFirstClaim']=='40-49', 1, 0)\n",
    "    df_members['age_50-59'] = np.where(df_members['AgeAtFirstClaim']=='50-59', 1, 0)\n",
    "    df_members['age_60-69'] = np.where(df_members['AgeAtFirstClaim']=='60-69', 1, 0)\n",
    "    df_members['age_70-79'] = np.where(df_members['AgeAtFirstClaim']=='70-79', 1, 0)\n",
    "    df_members['age_80+'] = np.where(df_members['AgeAtFirstClaim']=='80+', 1, 0)\n",
    "    df_members['age_MISS'] = np.where(df_members['AgeAtFirstClaim'].isnull(), 1, 0)\n",
    "    return\n",
    "\n",
    "updateAge()"
   ]
  },
  {
   "cell_type": "code",
   "execution_count": 18,
   "metadata": {},
   "outputs": [],
   "source": [
    "# Sex\n",
    "   # Convert from text to binary\n",
    "\n",
    "def updateSex():\n",
    "    df_members['sexMALE'] = np.where(df_members['Sex']=='M', 1, 0)\n",
    "    df_members['sexFEMALE'] = np.where(df_members['Sex']=='F', 1, 0)\n",
    "    df_members['sexMISS'] = np.where(df_members['Sex'].isnull(), 1, 0)\n",
    "    return\n",
    "\n",
    "updateSex()"
   ]
  },
  {
   "cell_type": "code",
   "execution_count": 19,
   "metadata": {},
   "outputs": [],
   "source": [
    "# Export to csv for further processing\n",
    "df_members.to_csv(\"processed-data/new_members.csv\", index=False)"
   ]
  }
 ],
 "metadata": {
  "kernelspec": {
   "display_name": "Python 3",
   "language": "python",
   "name": "python3"
  },
  "language_info": {
   "codemirror_mode": {
    "name": "ipython",
    "version": 3
   },
   "file_extension": ".py",
   "mimetype": "text/x-python",
   "name": "python",
   "nbconvert_exporter": "python",
   "pygments_lexer": "ipython3",
   "version": "3.8.3"
  }
 },
 "nbformat": 4,
 "nbformat_minor": 2
}
