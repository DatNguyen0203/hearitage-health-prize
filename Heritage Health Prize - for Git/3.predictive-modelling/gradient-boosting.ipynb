{
 "cells": [
  {
   "cell_type": "code",
   "execution_count": 35,
   "metadata": {},
   "outputs": [],
   "source": [
    "import pandas as pd\n",
    "import numpy as np\n",
    "import matplotlib.pyplot as plt\n",
    "import sys\n",
    "from sklearn.preprocessing import MinMaxScaler, StandardScaler\n",
    "from sklearn import ensemble\n",
    "from sklearn.model_selection import train_test_split\n",
    "from sklearn.model_selection import GridSearchCV\n",
    "import pandas as pd\n",
    "import math"
   ]
  },
  {
   "cell_type": "code",
   "execution_count": 36,
   "metadata": {},
   "outputs": [],
   "source": [
    "df_train_set = pd.read_csv('modeling-data/train-data.csv')\n",
    "df_test_set = pd.read_csv('modeling-data/test-data.csv')\n",
    "df_submission_set = pd.read_csv('modeling-data/submission-data.csv')"
   ]
  },
  {
   "cell_type": "markdown",
   "metadata": {},
   "source": [
    "# Data Prep"
   ]
  },
  {
   "cell_type": "code",
   "execution_count": 37,
   "metadata": {},
   "outputs": [],
   "source": [
    "# Prepare training data\n",
    "X_train = df_train_set.loc[:, df_train_set.columns != 'DaysInHospital']\n",
    "Y_train = df_train_set['DaysInHospital']\n",
    "\n",
    "X_train = X_train.drop(['Year', 'MemberID'], axis=1)"
   ]
  },
  {
   "cell_type": "code",
   "execution_count": 38,
   "metadata": {},
   "outputs": [],
   "source": [
    "# Preapre test data\n",
    "X_test = df_test_set.loc[:, df_test_set.columns != 'DaysInHospital']\n",
    "Y_test = df_test_set['DaysInHospital']\n",
    "\n",
    "X_test = X_test.drop(['Year', 'MemberID'], axis=1)"
   ]
  },
  {
   "cell_type": "code",
   "execution_count": 39,
   "metadata": {},
   "outputs": [],
   "source": [
    "# Preapre submission data\n",
    "X_sub = df_submission_set.loc[:, df_submission_set.columns != 'DaysInHospital']\n",
    "Y_sub = df_submission_set['DaysInHospital']\n",
    "\n",
    "X_sub = X_sub.drop(['Year', 'MemberID'], axis=1)"
   ]
  },
  {
   "cell_type": "code",
   "execution_count": 40,
   "metadata": {},
   "outputs": [],
   "source": [
    "#Scaling\n",
    "scaler = StandardScaler().fit(X_train)\n",
    "X_train = scaler.transform(X_train)\n",
    "X_test = scaler.transform(X_test)\n",
    "X_sub = scaler.transform(X_sub)"
   ]
  },
  {
   "cell_type": "code",
   "execution_count": 41,
   "metadata": {},
   "outputs": [],
   "source": [
    "# Create evaluation function\n",
    "def eval(model, X_test, Y_test):\n",
    "    pred_Y = model.predict(X_test) # your predicted y values\n",
    "    pred_Y = pred_Y.clip(min=0)\n",
    "    pred_Y = pred_Y.astype(int)\n",
    "    # The root mean square logarithmic error\n",
    "    msle = np.mean( (np.log(pred_Y + 1) - np.log(Y_test + 1)) ** 2)\n",
    "    rmsle = math.sqrt(msle)\n",
    "    \n",
    "    print (\"RMSLE: %.4f\" % rmsle)\n",
    "    from sklearn.metrics import r2_score\n",
    "    r2 = r2_score(pred_Y, Y_test)\n",
    "    print (\"R2 value: %.4f\" % r2)"
   ]
  },
  {
   "cell_type": "code",
   "execution_count": 46,
   "metadata": {},
   "outputs": [
    {
     "name": "stdout",
     "output_type": "stream",
     "text": [
      "Learning rate:  0.16\n",
      "Accuracy score (training set): 0.085\n",
      "Accuracy score (test set): 0.066\n",
      "\n",
      "Learning rate:  0.17\n",
      "Accuracy score (training set): 0.087\n",
      "Accuracy score (test set): 0.068\n",
      "\n",
      "Learning rate:  0.18\n",
      "Accuracy score (training set): 0.088\n",
      "Accuracy score (test set): 0.069\n",
      "\n",
      "Learning rate:  0.2\n",
      "Accuracy score (training set): 0.092\n",
      "Accuracy score (test set): 0.067\n",
      "\n",
      "Learning rate:  0.21\n",
      "Accuracy score (training set): 0.092\n",
      "Accuracy score (test set): 0.069\n",
      "\n",
      "Learning rate:  0.22\n",
      "Accuracy score (training set): 0.096\n",
      "Accuracy score (test set): 0.068\n",
      "\n",
      "Learning rate:  0.3\n",
      "Accuracy score (training set): 0.102\n",
      "Accuracy score (test set): 0.060\n",
      "\n"
     ]
    }
   ],
   "source": [
    "# Model testing\n",
    "# ML Algo used: Gradient Boosting algorithm\n",
    "# Compute the accuracy scores on training and test sets when training with different learning rates\n",
    "\n",
    "learning_rates = [0.16, 0.17, 0.18, 0.2, 0.21, 0.22, 0.3]\n",
    "for learning_rate in learning_rates:\n",
    "    model_gbm = ensemble.GradientBoostingRegressor(n_estimators=20, learning_rate = learning_rate, max_features=4, max_depth = 4, random_state = 0)\n",
    "    model_gbm.fit(X_train, Y_train)\n",
    "    print(\"Learning rate: \", learning_rate)\n",
    "    print(\"Accuracy score (training set): {0:.3f}\".format(model_gbm.score(X_train, Y_train)))\n",
    "    print(\"Accuracy score (test set): {0:.3f}\".format(model_gbm.score(X_test, Y_test)))\n",
    "    print()"
   ]
  },
  {
   "cell_type": "markdown",
   "metadata": {},
   "source": [
    "After trying with different learning rates, the one that give the highest accuracy score on test set is **0.21**. We will build our actual model with this learning rate."
   ]
  },
  {
   "cell_type": "code",
   "execution_count": 47,
   "metadata": {},
   "outputs": [
    {
     "data": {
      "text/plain": [
       "GradientBoostingRegressor(learning_rate=0.21, max_depth=4, max_features=4,\n",
       "                          n_estimators=20, random_state=0)"
      ]
     },
     "execution_count": 47,
     "metadata": {},
     "output_type": "execute_result"
    }
   ],
   "source": [
    "# Model Training\n",
    "model_gbm = ensemble.GradientBoostingRegressor(n_estimators=20, learning_rate = 0.21, max_features=4, max_depth = 4, random_state = 0)\n",
    "model_gbm.fit(X_train, Y_train)"
   ]
  },
  {
   "cell_type": "markdown",
   "metadata": {},
   "source": [
    "# Model Evaluation"
   ]
  },
  {
   "cell_type": "markdown",
   "metadata": {},
   "source": [
    "### On Test Data"
   ]
  },
  {
   "cell_type": "code",
   "execution_count": 48,
   "metadata": {},
   "outputs": [
    {
     "name": "stdout",
     "output_type": "stream",
     "text": [
      "RMSLE: 0.4875\n",
      "R2 value: -16.8879\n"
     ]
    }
   ],
   "source": [
    "# Model evaluation on Test Data\n",
    "eval(model_gbm, X_test, Y_test)"
   ]
  },
  {
   "cell_type": "markdown",
   "metadata": {},
   "source": [
    "### On Submission Data"
   ]
  },
  {
   "cell_type": "code",
   "execution_count": 49,
   "metadata": {},
   "outputs": [
    {
     "name": "stdout",
     "output_type": "stream",
     "text": [
      "RMSLE: 0.4903\n",
      "R2 value: -17.4047\n"
     ]
    }
   ],
   "source": [
    "# Model evaluation on Submission Data\n",
    "eval(model_gbm, X_sub, Y_sub)"
   ]
  },
  {
   "cell_type": "markdown",
   "metadata": {},
   "source": [
    "# Prediction Results"
   ]
  },
  {
   "cell_type": "code",
   "execution_count": 50,
   "metadata": {},
   "outputs": [],
   "source": [
    "# Prediction Result\n",
    "pred_Y = model_gbm.predict(X_sub).clip(min=0)\n",
    "df_predicted = pd.DataFrame()\n",
    "df_predicted['Year'] = df_submission_set['Year']\n",
    "df_predicted['MemberID'] = df_submission_set['MemberID']\n",
    "df_predicted['DaysInHospital_predicted'] = pred_Y\n",
    "df_predicted['DaysInHospital_actual'] = df_submission_set['DaysInHospital']"
   ]
  },
  {
   "cell_type": "markdown",
   "metadata": {},
   "source": [
    "### Some results"
   ]
  },
  {
   "cell_type": "code",
   "execution_count": 51,
   "metadata": {},
   "outputs": [
    {
     "data": {
      "text/html": [
       "<div>\n",
       "<style scoped>\n",
       "    .dataframe tbody tr th:only-of-type {\n",
       "        vertical-align: middle;\n",
       "    }\n",
       "\n",
       "    .dataframe tbody tr th {\n",
       "        vertical-align: top;\n",
       "    }\n",
       "\n",
       "    .dataframe thead th {\n",
       "        text-align: right;\n",
       "    }\n",
       "</style>\n",
       "<table border=\"1\" class=\"dataframe\">\n",
       "  <thead>\n",
       "    <tr style=\"text-align: right;\">\n",
       "      <th></th>\n",
       "      <th>Year</th>\n",
       "      <th>MemberID</th>\n",
       "      <th>DaysInHospital_predicted</th>\n",
       "      <th>DaysInHospital_actual</th>\n",
       "    </tr>\n",
       "  </thead>\n",
       "  <tbody>\n",
       "    <tr>\n",
       "      <th>2154</th>\n",
       "      <td>Y2</td>\n",
       "      <td>23014289</td>\n",
       "      <td>0.496494</td>\n",
       "      <td>3</td>\n",
       "    </tr>\n",
       "    <tr>\n",
       "      <th>22858</th>\n",
       "      <td>Y2</td>\n",
       "      <td>92583886</td>\n",
       "      <td>0.936995</td>\n",
       "      <td>2</td>\n",
       "    </tr>\n",
       "    <tr>\n",
       "      <th>24688</th>\n",
       "      <td>Y2</td>\n",
       "      <td>84594671</td>\n",
       "      <td>0.574865</td>\n",
       "      <td>3</td>\n",
       "    </tr>\n",
       "    <tr>\n",
       "      <th>21137</th>\n",
       "      <td>Y2</td>\n",
       "      <td>14094094</td>\n",
       "      <td>0.604351</td>\n",
       "      <td>1</td>\n",
       "    </tr>\n",
       "    <tr>\n",
       "      <th>24325</th>\n",
       "      <td>Y2</td>\n",
       "      <td>35078584</td>\n",
       "      <td>0.202840</td>\n",
       "      <td>1</td>\n",
       "    </tr>\n",
       "    <tr>\n",
       "      <th>3084</th>\n",
       "      <td>Y2</td>\n",
       "      <td>24206801</td>\n",
       "      <td>0.483851</td>\n",
       "      <td>1</td>\n",
       "    </tr>\n",
       "    <tr>\n",
       "      <th>14999</th>\n",
       "      <td>Y2</td>\n",
       "      <td>49936973</td>\n",
       "      <td>0.753989</td>\n",
       "      <td>10</td>\n",
       "    </tr>\n",
       "    <tr>\n",
       "      <th>14701</th>\n",
       "      <td>Y2</td>\n",
       "      <td>90073152</td>\n",
       "      <td>0.149499</td>\n",
       "      <td>2</td>\n",
       "    </tr>\n",
       "    <tr>\n",
       "      <th>28939</th>\n",
       "      <td>Y2</td>\n",
       "      <td>20849970</td>\n",
       "      <td>0.310897</td>\n",
       "      <td>1</td>\n",
       "    </tr>\n",
       "    <tr>\n",
       "      <th>14830</th>\n",
       "      <td>Y2</td>\n",
       "      <td>51092404</td>\n",
       "      <td>0.768134</td>\n",
       "      <td>3</td>\n",
       "    </tr>\n",
       "    <tr>\n",
       "      <th>790</th>\n",
       "      <td>Y2</td>\n",
       "      <td>11843673</td>\n",
       "      <td>0.505300</td>\n",
       "      <td>5</td>\n",
       "    </tr>\n",
       "    <tr>\n",
       "      <th>18802</th>\n",
       "      <td>Y2</td>\n",
       "      <td>22883237</td>\n",
       "      <td>0.308301</td>\n",
       "      <td>2</td>\n",
       "    </tr>\n",
       "    <tr>\n",
       "      <th>16149</th>\n",
       "      <td>Y2</td>\n",
       "      <td>50524932</td>\n",
       "      <td>0.748243</td>\n",
       "      <td>1</td>\n",
       "    </tr>\n",
       "    <tr>\n",
       "      <th>893</th>\n",
       "      <td>Y2</td>\n",
       "      <td>31228691</td>\n",
       "      <td>0.423662</td>\n",
       "      <td>3</td>\n",
       "    </tr>\n",
       "    <tr>\n",
       "      <th>6564</th>\n",
       "      <td>Y2</td>\n",
       "      <td>57467253</td>\n",
       "      <td>0.499171</td>\n",
       "      <td>2</td>\n",
       "    </tr>\n",
       "    <tr>\n",
       "      <th>21913</th>\n",
       "      <td>Y2</td>\n",
       "      <td>95108271</td>\n",
       "      <td>0.630942</td>\n",
       "      <td>1</td>\n",
       "    </tr>\n",
       "    <tr>\n",
       "      <th>12701</th>\n",
       "      <td>Y2</td>\n",
       "      <td>58754857</td>\n",
       "      <td>0.228710</td>\n",
       "      <td>3</td>\n",
       "    </tr>\n",
       "    <tr>\n",
       "      <th>20405</th>\n",
       "      <td>Y2</td>\n",
       "      <td>42669343</td>\n",
       "      <td>1.280259</td>\n",
       "      <td>1</td>\n",
       "    </tr>\n",
       "    <tr>\n",
       "      <th>27662</th>\n",
       "      <td>Y2</td>\n",
       "      <td>59895486</td>\n",
       "      <td>0.450995</td>\n",
       "      <td>1</td>\n",
       "    </tr>\n",
       "    <tr>\n",
       "      <th>18417</th>\n",
       "      <td>Y2</td>\n",
       "      <td>50830843</td>\n",
       "      <td>1.143516</td>\n",
       "      <td>5</td>\n",
       "    </tr>\n",
       "  </tbody>\n",
       "</table>\n",
       "</div>"
      ],
      "text/plain": [
       "      Year  MemberID  DaysInHospital_predicted  DaysInHospital_actual\n",
       "2154    Y2  23014289                  0.496494                      3\n",
       "22858   Y2  92583886                  0.936995                      2\n",
       "24688   Y2  84594671                  0.574865                      3\n",
       "21137   Y2  14094094                  0.604351                      1\n",
       "24325   Y2  35078584                  0.202840                      1\n",
       "3084    Y2  24206801                  0.483851                      1\n",
       "14999   Y2  49936973                  0.753989                     10\n",
       "14701   Y2  90073152                  0.149499                      2\n",
       "28939   Y2  20849970                  0.310897                      1\n",
       "14830   Y2  51092404                  0.768134                      3\n",
       "790     Y2  11843673                  0.505300                      5\n",
       "18802   Y2  22883237                  0.308301                      2\n",
       "16149   Y2  50524932                  0.748243                      1\n",
       "893     Y2  31228691                  0.423662                      3\n",
       "6564    Y2  57467253                  0.499171                      2\n",
       "21913   Y2  95108271                  0.630942                      1\n",
       "12701   Y2  58754857                  0.228710                      3\n",
       "20405   Y2  42669343                  1.280259                      1\n",
       "27662   Y2  59895486                  0.450995                      1\n",
       "18417   Y2  50830843                  1.143516                      5"
      ]
     },
     "execution_count": 51,
     "metadata": {},
     "output_type": "execute_result"
    }
   ],
   "source": [
    "df_predicted[df_predicted['DaysInHospital_actual'] >= 1].sample(20)"
   ]
  },
  {
   "cell_type": "markdown",
   "metadata": {},
   "source": [
    "\n",
    "### Distribution of Predicted DaysInHospital Values"
   ]
  },
  {
   "cell_type": "code",
   "execution_count": 56,
   "metadata": {},
   "outputs": [
    {
     "data": {
      "text/plain": [
       "9368"
      ]
     },
     "execution_count": 56,
     "metadata": {},
     "output_type": "execute_result"
    }
   ],
   "source": [
    "# Predicted number of members who have DaysInHospital > 0,5\n",
    "len(df_predicted[df_predicted['DaysInHospital_predicted'] > 0.5])"
   ]
  },
  {
   "cell_type": "code",
   "execution_count": 53,
   "metadata": {
    "scrolled": true
   },
   "outputs": [
    {
     "data": {
      "text/plain": [
       "<matplotlib.axes._subplots.AxesSubplot at 0x22f92f58940>"
      ]
     },
     "execution_count": 53,
     "metadata": {},
     "output_type": "execute_result"
    },
    {
     "data": {
      "image/png": "[encoded data removed]",
      "text/plain": [
       "<Figure size 432x288 with 1 Axes>"
      ]
     },
     "metadata": {
      "needs_background": "light"
     },
     "output_type": "display_data"
    }
   ],
   "source": [
    "df_predicted['DaysInHospital_predicted'].plot.hist()"
   ]
  },
  {
   "cell_type": "markdown",
   "metadata": {},
   "source": [
    "### Distribution of Actual DaysInHospital Values"
   ]
  },
  {
   "cell_type": "code",
   "execution_count": 54,
   "metadata": {},
   "outputs": [
    {
     "data": {
      "text/plain": [
       "4365"
      ]
     },
     "execution_count": 54,
     "metadata": {},
     "output_type": "execute_result"
    }
   ],
   "source": [
    "# Actual number of members who have to stay at least 1 day in the hospital\n",
    "len(df_predicted[df_predicted['DaysInHospital_actual'] >= 1])"
   ]
  },
  {
   "cell_type": "code",
   "execution_count": 55,
   "metadata": {},
   "outputs": [
    {
     "data": {
      "text/plain": [
       "<matplotlib.axes._subplots.AxesSubplot at 0x22f92fd2160>"
      ]
     },
     "execution_count": 55,
     "metadata": {},
     "output_type": "execute_result"
    },
    {
     "data": {
      "image/png": "[encoded data removed]",
      "text/plain": [
       "<Figure size 432x288 with 1 Axes>"
      ]
     },
     "metadata": {
      "needs_background": "light"
     },
     "output_type": "display_data"
    }
   ],
   "source": [
    "df_predicted['DaysInHospital_actual'].plot.hist()"
   ]
  }
 ],
 "metadata": {
  "kernelspec": {
   "display_name": "Python 3",
   "language": "python",
   "name": "python3"
  },
  "language_info": {
   "codemirror_mode": {
    "name": "ipython",
    "version": 3
   },
   "file_extension": ".py",
   "mimetype": "text/x-python",
   "name": "python",
   "nbconvert_exporter": "python",
   "pygments_lexer": "ipython3",
   "version": "3.8.3"
  }
 },
 "nbformat": 4,
 "nbformat_minor": 2
}
