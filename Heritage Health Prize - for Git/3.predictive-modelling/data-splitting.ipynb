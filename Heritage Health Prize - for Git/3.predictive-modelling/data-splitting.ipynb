{
 "cells": [
  {
   "cell_type": "code",
   "execution_count": 107,
   "metadata": {},
   "outputs": [],
   "source": [
    "import pandas as pd\n",
    "import numpy as np"
   ]
  },
  {
   "cell_type": "code",
   "execution_count": 108,
   "metadata": {},
   "outputs": [],
   "source": [
    "df_modelling_set_trunc = pd.read_csv('../1.data-preparation/processed-data/modelling_data_trunc.csv')"
   ]
  },
  {
   "cell_type": "markdown",
   "metadata": {},
   "source": [
    "# Data Splitting\n",
    "\n",
    "We will split our data into 3 parts:\n",
    "- 60% is for training\n",
    "- 20% is for testing\n",
    "- 20% is for submission scoring\n",
    "\n",
    "All submission data will be in Y2 (Y3 for target variable)"
   ]
  },
  {
   "cell_type": "code",
   "execution_count": 109,
   "metadata": {},
   "outputs": [],
   "source": [
    "df_modelling_set_trunc = df_modelling_set_trunc.sort_values(['Year'], ascending = True)"
   ]
  },
  {
   "cell_type": "code",
   "execution_count": 110,
   "metadata": {},
   "outputs": [],
   "source": [
    "df_modelling_set_trunc.reset_index(inplace=True)"
   ]
  },
  {
   "cell_type": "code",
   "execution_count": 111,
   "metadata": {},
   "outputs": [],
   "source": [
    "df_modelling_set_trunc.drop(['index'], axis=1, inplace=True)"
   ]
  },
  {
   "cell_type": "code",
   "execution_count": 112,
   "metadata": {},
   "outputs": [],
   "source": [
    "l = len(df_modelling_set_trunc)\n",
    "training_set_last_index = int(round(l*0.6,0))\n",
    "test_set_last_index = training_set_last_index + int(round(l*0.2,0))"
   ]
  },
  {
   "cell_type": "code",
   "execution_count": 113,
   "metadata": {},
   "outputs": [],
   "source": [
    "df_train_set = df_modelling_set_trunc[:training_set_last_index]\n",
    "df_test_set = df_modelling_set_trunc[training_set_last_index:test_set_last_index]\n",
    "df_submission_set = df_modelling_set_trunc[test_set_last_index:]"
   ]
  },
  {
   "cell_type": "code",
   "execution_count": 114,
   "metadata": {},
   "outputs": [],
   "source": [
    "df_train_set.to_csv('modeling-data/train-data.csv', index=False)\n",
    "df_test_set.to_csv('modeling-data/test-data.csv', index=False)\n",
    "df_submission_set.to_csv('modeling-data/submission-data.csv', index=False)"
   ]
  },
  {
   "cell_type": "code",
   "execution_count": null,
   "metadata": {},
   "outputs": [],
   "source": []
  }
 ],
 "metadata": {
  "kernelspec": {
   "display_name": "Python 3",
   "language": "python",
   "name": "python3"
  },
  "language_info": {
   "codemirror_mode": {
    "name": "ipython",
    "version": 3
   },
   "file_extension": ".py",
   "mimetype": "text/x-python",
   "name": "python",
   "nbconvert_exporter": "python",
   "pygments_lexer": "ipython3",
   "version": "3.8.3"
  }
 },
 "nbformat": 4,
 "nbformat_minor": 4
}
