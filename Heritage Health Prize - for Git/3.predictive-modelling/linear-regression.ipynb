{
 "cells": [
  {
   "cell_type": "code",
   "execution_count": 47,
   "metadata": {},
   "outputs": [],
   "source": [
    "import pandas as pd\n",
    "import numpy as np\n",
    "import matplotlib.pyplot as plt\n",
    "import sys\n",
    "from sklearn.model_selection import train_test_split\n",
    "from sklearn import linear_model\n",
    "from sklearn.preprocessing import MinMaxScaler, StandardScaler\n",
    "import pandas as pd\n",
    "import math"
   ]
  },
  {
   "cell_type": "code",
   "execution_count": 112,
   "metadata": {},
   "outputs": [],
   "source": [
    "df_train_set = pd.read_csv('modeling-data/train-data.csv')\n",
    "df_test_set = pd.read_csv('modeling-data/test-data.csv')\n",
    "df_submission_set = pd.read_csv('modeling-data/submission-data.csv')"
   ]
  },
  {
   "cell_type": "markdown",
   "metadata": {},
   "source": [
    "# Data Prep"
   ]
  },
  {
   "cell_type": "code",
   "execution_count": 113,
   "metadata": {},
   "outputs": [],
   "source": [
    "# Prepare training data\n",
    "X_train = df_train_set.loc[:, df_train_set.columns != 'DaysInHospital']\n",
    "Y_train = df_train_set['DaysInHospital']\n",
    "\n",
    "X_train = X_train.drop(['Year', 'MemberID'], axis=1)"
   ]
  },
  {
   "cell_type": "code",
   "execution_count": 114,
   "metadata": {},
   "outputs": [],
   "source": [
    "# Preapre test data\n",
    "X_test = df_test_set.loc[:, df_test_set.columns != 'DaysInHospital']\n",
    "Y_test = df_test_set['DaysInHospital']\n",
    "\n",
    "X_test = X_test.drop(['Year', 'MemberID'], axis=1)"
   ]
  },
  {
   "cell_type": "code",
   "execution_count": 115,
   "metadata": {},
   "outputs": [],
   "source": [
    "# Preapre submission data\n",
    "X_sub = df_submission_set.loc[:, df_submission_set.columns != 'DaysInHospital']\n",
    "Y_sub = df_submission_set['DaysInHospital']\n",
    "\n",
    "X_sub = X_sub.drop(['Year', 'MemberID'], axis=1)"
   ]
  },
  {
   "cell_type": "code",
   "execution_count": 116,
   "metadata": {},
   "outputs": [],
   "source": [
    "#Scaling\n",
    "scaler = StandardScaler().fit(X_train)\n",
    "X_train = scaler.transform(X_train)\n",
    "X_test = scaler.transform(X_test)\n",
    "X_sub = scaler.transform(X_sub)"
   ]
  },
  {
   "cell_type": "code",
   "execution_count": 117,
   "metadata": {},
   "outputs": [],
   "source": [
    "# Create evaluation function\n",
    "def eval(model, X_test, Y_test):\n",
    "    pred_Y = model.predict(X_test) # your predicted y values\n",
    "    pred_Y = pred_Y.clip(min=0)\n",
    "    pred_Y = pred_Y.astype(int)\n",
    "    # The root mean square logarithmic error\n",
    "    msle = np.mean( (np.log(pred_Y + 1) - np.log(Y_test + 1)) ** 2)\n",
    "    rmsle = math.sqrt(msle)\n",
    "    \n",
    "    print (\"RMSLE: %.4f\" % rmsle)\n",
    "    from sklearn.metrics import r2_score\n",
    "    r2 = r2_score(pred_Y, Y_test)\n",
    "    print (\"R2 value: %.4f\" % r2)"
   ]
  },
  {
   "cell_type": "code",
   "execution_count": 118,
   "metadata": {},
   "outputs": [
    {
     "data": {
      "text/plain": [
       "LinearRegression()"
      ]
     },
     "execution_count": 118,
     "metadata": {},
     "output_type": "execute_result"
    }
   ],
   "source": [
    "# Modeling\n",
    "model_linear = linear_model.LinearRegression()\n",
    "model_linear.fit(X_train, Y_train)"
   ]
  },
  {
   "cell_type": "markdown",
   "metadata": {},
   "source": [
    "# Model Evaluation"
   ]
  },
  {
   "cell_type": "markdown",
   "metadata": {},
   "source": [
    "### On Test Data"
   ]
  },
  {
   "cell_type": "code",
   "execution_count": 119,
   "metadata": {},
   "outputs": [
    {
     "name": "stdout",
     "output_type": "stream",
     "text": [
      "RMSLE: 0.4865\n",
      "R2 value: -12.3662\n"
     ]
    }
   ],
   "source": [
    "# Model evaluation on Test Data\n",
    "eval(model_linear, X_test, Y_test)"
   ]
  },
  {
   "cell_type": "markdown",
   "metadata": {},
   "source": [
    "### On Submission Data"
   ]
  },
  {
   "cell_type": "code",
   "execution_count": 120,
   "metadata": {},
   "outputs": [
    {
     "name": "stdout",
     "output_type": "stream",
     "text": [
      "RMSLE: 0.4878\n",
      "R2 value: -12.7397\n"
     ]
    }
   ],
   "source": [
    "# Model evaluation on Submission Data\n",
    "eval(model_linear, X_sub, Y_sub)"
   ]
  },
  {
   "cell_type": "markdown",
   "metadata": {},
   "source": [
    "# Prediction Results"
   ]
  },
  {
   "cell_type": "code",
   "execution_count": 121,
   "metadata": {},
   "outputs": [],
   "source": [
    "# Prediction Result\n",
    "pred_Y = model_linear.predict(X_sub).clip(min=0)\n",
    "df_predicted = pd.DataFrame()\n",
    "df_predicted['Year'] = df_submission_set['Year']\n",
    "df_predicted['MemberID'] = df_submission_set['MemberID']\n",
    "df_predicted['DaysInHospital_predicted'] = pred_Y\n",
    "df_predicted['DaysInHospital_actual'] = df_submission_set['DaysInHospital']"
   ]
  },
  {
   "cell_type": "markdown",
   "metadata": {},
   "source": [
    "### Some results"
   ]
  },
  {
   "cell_type": "code",
   "execution_count": 122,
   "metadata": {},
   "outputs": [
    {
     "data": {
      "text/html": [
       "<div>\n",
       "<style scoped>\n",
       "    .dataframe tbody tr th:only-of-type {\n",
       "        vertical-align: middle;\n",
       "    }\n",
       "\n",
       "    .dataframe tbody tr th {\n",
       "        vertical-align: top;\n",
       "    }\n",
       "\n",
       "    .dataframe thead th {\n",
       "        text-align: right;\n",
       "    }\n",
       "</style>\n",
       "<table border=\"1\" class=\"dataframe\">\n",
       "  <thead>\n",
       "    <tr style=\"text-align: right;\">\n",
       "      <th></th>\n",
       "      <th>Year</th>\n",
       "      <th>MemberID</th>\n",
       "      <th>DaysInHospital_predicted</th>\n",
       "      <th>DaysInHospital_actual</th>\n",
       "    </tr>\n",
       "  </thead>\n",
       "  <tbody>\n",
       "    <tr>\n",
       "      <th>2919</th>\n",
       "      <td>Y2</td>\n",
       "      <td>31054132</td>\n",
       "      <td>0.449031</td>\n",
       "      <td>2</td>\n",
       "    </tr>\n",
       "    <tr>\n",
       "      <th>232</th>\n",
       "      <td>Y2</td>\n",
       "      <td>5224418</td>\n",
       "      <td>0.368506</td>\n",
       "      <td>1</td>\n",
       "    </tr>\n",
       "    <tr>\n",
       "      <th>14921</th>\n",
       "      <td>Y2</td>\n",
       "      <td>41810776</td>\n",
       "      <td>1.880340</td>\n",
       "      <td>1</td>\n",
       "    </tr>\n",
       "    <tr>\n",
       "      <th>2957</th>\n",
       "      <td>Y2</td>\n",
       "      <td>39977921</td>\n",
       "      <td>0.346307</td>\n",
       "      <td>1</td>\n",
       "    </tr>\n",
       "    <tr>\n",
       "      <th>8397</th>\n",
       "      <td>Y2</td>\n",
       "      <td>71380269</td>\n",
       "      <td>0.166537</td>\n",
       "      <td>1</td>\n",
       "    </tr>\n",
       "    <tr>\n",
       "      <th>10734</th>\n",
       "      <td>Y2</td>\n",
       "      <td>61114090</td>\n",
       "      <td>2.057029</td>\n",
       "      <td>1</td>\n",
       "    </tr>\n",
       "    <tr>\n",
       "      <th>23546</th>\n",
       "      <td>Y2</td>\n",
       "      <td>1842362</td>\n",
       "      <td>0.890988</td>\n",
       "      <td>7</td>\n",
       "    </tr>\n",
       "    <tr>\n",
       "      <th>1526</th>\n",
       "      <td>Y2</td>\n",
       "      <td>39009400</td>\n",
       "      <td>0.121655</td>\n",
       "      <td>1</td>\n",
       "    </tr>\n",
       "    <tr>\n",
       "      <th>17948</th>\n",
       "      <td>Y2</td>\n",
       "      <td>87797052</td>\n",
       "      <td>1.000007</td>\n",
       "      <td>1</td>\n",
       "    </tr>\n",
       "    <tr>\n",
       "      <th>525</th>\n",
       "      <td>Y2</td>\n",
       "      <td>35538622</td>\n",
       "      <td>1.069801</td>\n",
       "      <td>1</td>\n",
       "    </tr>\n",
       "    <tr>\n",
       "      <th>13394</th>\n",
       "      <td>Y2</td>\n",
       "      <td>93969558</td>\n",
       "      <td>0.325150</td>\n",
       "      <td>1</td>\n",
       "    </tr>\n",
       "    <tr>\n",
       "      <th>22314</th>\n",
       "      <td>Y2</td>\n",
       "      <td>30754305</td>\n",
       "      <td>1.570230</td>\n",
       "      <td>3</td>\n",
       "    </tr>\n",
       "    <tr>\n",
       "      <th>19639</th>\n",
       "      <td>Y2</td>\n",
       "      <td>13088151</td>\n",
       "      <td>0.899710</td>\n",
       "      <td>4</td>\n",
       "    </tr>\n",
       "    <tr>\n",
       "      <th>18291</th>\n",
       "      <td>Y2</td>\n",
       "      <td>31309612</td>\n",
       "      <td>0.213576</td>\n",
       "      <td>2</td>\n",
       "    </tr>\n",
       "    <tr>\n",
       "      <th>13183</th>\n",
       "      <td>Y2</td>\n",
       "      <td>79140219</td>\n",
       "      <td>0.183756</td>\n",
       "      <td>1</td>\n",
       "    </tr>\n",
       "    <tr>\n",
       "      <th>9949</th>\n",
       "      <td>Y2</td>\n",
       "      <td>29754005</td>\n",
       "      <td>0.702003</td>\n",
       "      <td>3</td>\n",
       "    </tr>\n",
       "    <tr>\n",
       "      <th>18402</th>\n",
       "      <td>Y2</td>\n",
       "      <td>34776768</td>\n",
       "      <td>1.357857</td>\n",
       "      <td>2</td>\n",
       "    </tr>\n",
       "    <tr>\n",
       "      <th>22570</th>\n",
       "      <td>Y2</td>\n",
       "      <td>6562343</td>\n",
       "      <td>0.615237</td>\n",
       "      <td>1</td>\n",
       "    </tr>\n",
       "    <tr>\n",
       "      <th>18451</th>\n",
       "      <td>Y2</td>\n",
       "      <td>64968964</td>\n",
       "      <td>0.571510</td>\n",
       "      <td>1</td>\n",
       "    </tr>\n",
       "    <tr>\n",
       "      <th>25148</th>\n",
       "      <td>Y2</td>\n",
       "      <td>89007712</td>\n",
       "      <td>1.789620</td>\n",
       "      <td>13</td>\n",
       "    </tr>\n",
       "  </tbody>\n",
       "</table>\n",
       "</div>"
      ],
      "text/plain": [
       "      Year  MemberID  DaysInHospital_predicted  DaysInHospital_actual\n",
       "2919    Y2  31054132                  0.449031                      2\n",
       "232     Y2   5224418                  0.368506                      1\n",
       "14921   Y2  41810776                  1.880340                      1\n",
       "2957    Y2  39977921                  0.346307                      1\n",
       "8397    Y2  71380269                  0.166537                      1\n",
       "10734   Y2  61114090                  2.057029                      1\n",
       "23546   Y2   1842362                  0.890988                      7\n",
       "1526    Y2  39009400                  0.121655                      1\n",
       "17948   Y2  87797052                  1.000007                      1\n",
       "525     Y2  35538622                  1.069801                      1\n",
       "13394   Y2  93969558                  0.325150                      1\n",
       "22314   Y2  30754305                  1.570230                      3\n",
       "19639   Y2  13088151                  0.899710                      4\n",
       "18291   Y2  31309612                  0.213576                      2\n",
       "13183   Y2  79140219                  0.183756                      1\n",
       "9949    Y2  29754005                  0.702003                      3\n",
       "18402   Y2  34776768                  1.357857                      2\n",
       "22570   Y2   6562343                  0.615237                      1\n",
       "18451   Y2  64968964                  0.571510                      1\n",
       "25148   Y2  89007712                  1.789620                     13"
      ]
     },
     "execution_count": 122,
     "metadata": {},
     "output_type": "execute_result"
    }
   ],
   "source": [
    "df_predicted[df_predicted['DaysInHospital_actual'] >= 1].sample(20)"
   ]
  },
  {
   "cell_type": "markdown",
   "metadata": {},
   "source": [
    "\n",
    "### Distribution of Predicted DaysInHospital Values"
   ]
  },
  {
   "cell_type": "code",
   "execution_count": 128,
   "metadata": {},
   "outputs": [
    {
     "data": {
      "text/plain": [
       "10330"
      ]
     },
     "execution_count": 128,
     "metadata": {},
     "output_type": "execute_result"
    }
   ],
   "source": [
    "# Predicted number of members who have DaysInHospital > 0,5\n",
    "len(df_predicted[df_predicted['DaysInHospital_predicted'] > 0.5])"
   ]
  },
  {
   "cell_type": "code",
   "execution_count": 129,
   "metadata": {
    "scrolled": true
   },
   "outputs": [
    {
     "data": {
      "text/plain": [
       "<matplotlib.axes._subplots.AxesSubplot at 0x1da05ccc0d0>"
      ]
     },
     "execution_count": 129,
     "metadata": {},
     "output_type": "execute_result"
    },
    {
     "data": {
      "image/png": "[encoded data removed]",
      "text/plain": [
       "<Figure size 432x288 with 1 Axes>"
      ]
     },
     "metadata": {
      "needs_background": "light"
     },
     "output_type": "display_data"
    }
   ],
   "source": [
    "df_predicted['DaysInHospital_predicted'].plot.hist()"
   ]
  },
  {
   "cell_type": "markdown",
   "metadata": {},
   "source": [
    "### Distribution of Actual DaysInHospital Values"
   ]
  },
  {
   "cell_type": "code",
   "execution_count": 125,
   "metadata": {},
   "outputs": [
    {
     "data": {
      "text/plain": [
       "4365"
      ]
     },
     "execution_count": 125,
     "metadata": {},
     "output_type": "execute_result"
    }
   ],
   "source": [
    "# Actual number of members who have to stay at least 1 day in the hospital\n",
    "len(df_predicted[df_predicted['DaysInHospital_actual'] >= 1])"
   ]
  },
  {
   "cell_type": "code",
   "execution_count": 126,
   "metadata": {},
   "outputs": [
    {
     "data": {
      "text/plain": [
       "<matplotlib.axes._subplots.AxesSubplot at 0x1da04afbd90>"
      ]
     },
     "execution_count": 126,
     "metadata": {},
     "output_type": "execute_result"
    },
    {
     "data": {
      "image/png": "[encoded data removed]",
      "text/plain": [
       "<Figure size 432x288 with 1 Axes>"
      ]
     },
     "metadata": {
      "needs_background": "light"
     },
     "output_type": "display_data"
    }
   ],
   "source": [
    "df_predicted['DaysInHospital_actual'].plot.hist()"
   ]
  },
  {
   "cell_type": "code",
   "execution_count": null,
   "metadata": {},
   "outputs": [],
   "source": []
  }
 ],
 "metadata": {
  "kernelspec": {
   "display_name": "Python 3",
   "language": "python",
   "name": "python3"
  },
  "language_info": {
   "codemirror_mode": {
    "name": "ipython",
    "version": 3
   },
   "file_extension": ".py",
   "mimetype": "text/x-python",
   "name": "python",
   "nbconvert_exporter": "python",
   "pygments_lexer": "ipython3",
   "version": "3.8.3"
  }
 },
 "nbformat": 4,
 "nbformat_minor": 2
}
