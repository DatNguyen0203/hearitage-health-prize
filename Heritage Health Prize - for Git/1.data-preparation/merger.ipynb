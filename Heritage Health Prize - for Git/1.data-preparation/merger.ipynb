{
 "cells": [
  {
   "cell_type": "code",
   "execution_count": 17,
   "metadata": {},
   "outputs": [],
   "source": [
    "import pandas as pd\n",
    "import numpy as np"
   ]
  },
  {
   "cell_type": "code",
   "execution_count": 18,
   "metadata": {},
   "outputs": [],
   "source": [
    "df_claims = pd.read_csv('processed-data/claims_summary.csv')\n",
    "df_drug = pd.read_csv('processed-data/drug_summary.csv')\n",
    "df_lab = pd.read_csv('processed-data/lab_summary.csv')\n",
    "df_members = pd.read_csv('processed-data/new_members.csv')\n",
    "df_target = pd.read_csv('processed-data/target_dih.csv')"
   ]
  },
  {
   "cell_type": "code",
   "execution_count": 19,
   "metadata": {},
   "outputs": [],
   "source": [
    "def count_nulls(df):\n",
    "    null_counter = df.isnull().sum(axis=0)\n",
    "    #null_counter = null_counter[null_counter > 0]\n",
    "    null_percent = df.isnull().sum(axis=0) / df.shape[0] * 100\n",
    "    #null_percent = null_percent[null_percent > 0]\n",
    "    null_df = pd.concat([null_counter,null_percent],axis=1)\n",
    "    null_df.columns = ['null_count','null_percent']\n",
    "    return null_df"
   ]
  },
  {
   "cell_type": "code",
   "execution_count": 20,
   "metadata": {},
   "outputs": [],
   "source": [
    "# Merge all data sets into one ready for modelling\n",
    "\n",
    "df_target_member = pd.merge(df_target, df_members, on = ['MemberID'], how = 'left')\n",
    "df_target_member_claim = pd.merge(df_target_member, df_claims, on = ['MemberID', 'Year'], how = 'left')\n",
    "df_target_member_claim_drug = pd.merge(df_target_member_claim, df_drug, on = ['MemberID', 'Year'], how = 'left')\n",
    "df_modelling_set = pd.merge(df_target_member_claim_drug, df_lab, on = ['MemberID', 'Year'], how = 'left')"
   ]
  },
  {
   "cell_type": "code",
   "execution_count": 21,
   "metadata": {},
   "outputs": [],
   "source": [
    "# Handle Null values\n",
    "\n",
    "df_modelling_set['AAFC_MISS'] = np.where(df_modelling_set['AgeAtFirstClaim'].isnull(),1,0)\n",
    "df_modelling_set['AgeAtFirstClaim'] = np.where(df_modelling_set['AgeAtFirstClaim'].isnull(), 0, df_modelling_set['AgeAtFirstClaim'])\n",
    "\n",
    "df_modelling_set['no_drug_instances_MISS'] = np.where(df_modelling_set['no_drug_instances'].isnull(),1,0)\n",
    "df_modelling_set['no_drug_instances'] = np.where(df_modelling_set['no_drug_instances'].isnull(), 0, df_modelling_set['no_drug_instances'])\n",
    "df_modelling_set['DrugCount_sum'] = np.where(df_modelling_set['DrugCount_sum'].isnull(), 0, df_modelling_set['DrugCount_sum'])\n",
    "df_modelling_set['DrugCount_max'] = np.where(df_modelling_set['DrugCount_max'].isnull(), 0, df_modelling_set['DrugCount_max'])\n",
    "df_modelling_set['DrugCount_min'] = np.where(df_modelling_set['DrugCount_min'].isnull(), 0, df_modelling_set['DrugCount_min'])\n",
    "df_modelling_set['DrugCount_mean'] = np.where(df_modelling_set['DrugCount_mean'].isnull(), 0, df_modelling_set['DrugCount_mean'])\n",
    "df_modelling_set['DrugCount_std'] = np.where(df_modelling_set['DrugCount_std'].isnull(), 0, df_modelling_set['DrugCount_std'])\n",
    "\n",
    "df_modelling_set['no_lab_instances_MISS'] = np.where(df_modelling_set['no_lab_instances'].isnull(),1,0)\n",
    "df_modelling_set['no_lab_instances'] = np.where(df_modelling_set['no_lab_instances'].isnull(), 0, df_modelling_set['no_lab_instances'])\n",
    "df_modelling_set['LabCount_sum'] = np.where(df_modelling_set['LabCount_sum'].isnull(), 0, df_modelling_set['LabCount_sum'])\n",
    "df_modelling_set['LabCount_max'] = np.where(df_modelling_set['LabCount_max'].isnull(), 0, df_modelling_set['LabCount_max'])\n",
    "df_modelling_set['LabCount_min'] = np.where(df_modelling_set['LabCount_min'].isnull(), 0, df_modelling_set['LabCount_min'])\n",
    "df_modelling_set['LabCount_mean'] = np.where(df_modelling_set['LabCount_mean'].isnull(), 0, df_modelling_set['LabCount_mean'])\n",
    "df_modelling_set['LabCount_std'] = np.where(df_modelling_set['LabCount_std'].isnull(), 0, df_modelling_set['LabCount_std'])\n",
    "\n",
    "df_modelling_set = df_modelling_set.drop(columns = ['Sex'], axis=1)"
   ]
  },
  {
   "cell_type": "code",
   "execution_count": 22,
   "metadata": {},
   "outputs": [],
   "source": [
    "# Drop AgeAtFirstClaim as it is not numeric type\n",
    "df_modelling_set.drop(['AgeAtFirstClaim'], axis=1, inplace=True)"
   ]
  },
  {
   "cell_type": "code",
   "execution_count": 23,
   "metadata": {},
   "outputs": [],
   "source": [
    "# Export to csv\n",
    "df_modelling_set.to_csv(\"processed-data/modelling_data.csv\", index=False)"
   ]
  },
  {
   "cell_type": "code",
   "execution_count": null,
   "metadata": {},
   "outputs": [],
   "source": []
  }
 ],
 "metadata": {
  "kernelspec": {
   "display_name": "Python 3",
   "language": "python",
   "name": "python3"
  },
  "language_info": {
   "codemirror_mode": {
    "name": "ipython",
    "version": 3
   },
   "file_extension": ".py",
   "mimetype": "text/x-python",
   "name": "python",
   "nbconvert_exporter": "python",
   "pygments_lexer": "ipython3",
   "version": "3.8.3"
  }
 },
 "nbformat": 4,
 "nbformat_minor": 2
}
